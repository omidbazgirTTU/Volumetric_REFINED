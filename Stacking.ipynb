{
 "cells": [
  {
   "cell_type": "code",
   "execution_count": 117,
   "metadata": {},
   "outputs": [],
   "source": [
    "import numpy as np\n",
    "import pandas as pd\n",
    "import os\n",
    "import sklearn\n",
    "import glob\n",
    "import Toolbox\n",
    "from Toolbox import NRMSE,Bias_Calc\n",
    "from scipy.stats import pearsonr"
   ]
  },
  {
   "cell_type": "code",
   "execution_count": 118,
   "metadata": {},
   "outputs": [],
   "source": [
    "filepath_Val = \"C:\\\\Users\\\\obazgir\\\\Desktop\\\\REFINED project\\\\Volumetric REFINED\\\\NCI_Regression\\\\*VAL.csv\"\n",
    "VAL_Files = glob.glob(filepath_Val)\n",
    "filepath_Test = \"C:\\\\Users\\\\obazgir\\\\Desktop\\\\REFINED project\\\\Volumetric REFINED\\\\NCI_Regression\\\\*TEST.csv\"\n",
    "Test_Files = glob.glob(filepath_Test)"
   ]
  },
  {
   "cell_type": "code",
   "execution_count": 119,
   "metadata": {},
   "outputs": [],
   "source": [
    "def NRMSE(Y_Target, Y_Predict):\n",
    "    Y_Target = np.array(Y_Target); Y_Predict = np.array(Y_Predict);\n",
    "    Y_Target = Y_Target.reshape(len(Y_Target),1);    Y_Predict = Y_Predict.reshape(len(Y_Predict),1);    \n",
    "    Y_Bar = np.mean(Y_Target)\n",
    "    Nom = np.sum((Y_Predict - Y_Target)**2);    Denom = np.sum((Y_Bar - Y_Target)**2)\n",
    "    MSE = np.mean((Y_Predict - Y_Target)**2);   NRMSE = np.sqrt(Nom/Denom)\n",
    "    R2 = 1 - NRMSE**2\n",
    "    return NRMSE, R2"
   ]
  },
  {
   "cell_type": "code",
   "execution_count": 129,
   "metadata": {},
   "outputs": [],
   "source": [
    "SAVE_PATH = \"C:\\\\Users\\\\obazgir\\\\Desktop\\\\REFINED project\\\\Volumetric REFINED\\\\NCI_Regression\\\\\"\n",
    "from sklearn.linear_model import LinearRegression\n",
    "from sklearn.ensemble import RandomForestRegressor\n",
    "Res = {}\n",
    "for i in range(len(VAL_Files)):\n",
    "    Stack_Res= np.zeros((1,4))\n",
    "    Val = pd.read_csv(VAL_Files[i])\n",
    "    Test = pd.read_csv(Test_Files[i])\n",
    "    Y_Train = Val['Y_Val'].to_numpy()\n",
    "    X_Train = Val[['MDS','LE','LLE','ISO']].to_numpy()\n",
    "    Y_Test = Test['Y_Val'].to_numpy()\n",
    "    X_Test = Test[['MDS','LE','LLE','ISO']].to_numpy()\n",
    "    reg = LinearRegression()\n",
    "    #reg = RandomForestRegressor(max_depth=10, random_state=0)\n",
    "    reg.fit(X_Train, Y_Train)\n",
    "    Y_Pred = reg.predict(X_Test)\n",
    "    NRMSE_par,R2_par = NRMSE(Y_Test,Y_Pred)\n",
    "    CNN_PCC, p_value = pearsonr(Y_Test,Y_Pred)\n",
    "    Bias = Bias_Calc(Y_Test,Y_Pred)\n",
    "    Fname= VAL_Files[i].split('\\\\')[7]\n",
    "    Cell_Name = Fname.strip('VAL.csv')\n",
    "    Stack_Res[0,:] = NRMSE_par,R2_par,CNN_PCC,Bias\n",
    "    PD_Res = pd.DataFrame(data = Stack_Res, columns=[\"NRMSE\",\"R2\",\"PCC\",\"Bias\"])\n",
    "    Res[Cell_Name] = PD_Res\n",
    "    # Save the stacked points\n",
    "    Test['Stacked'] = Y_Pred\n",
    "    Test.to_csv(SAVE_PATH+\"Stacked_Res\\\\\"+Cell_Name+\"stacked.csv\")\n",
    "\n",
    "\n",
    "with open(SAVE_PATH+'Stacked.csv', 'w') as f:[f.write('{0},{1}\\n'.format(key, value)) for key, value in Res.items()]"
   ]
  },
  {
   "cell_type": "code",
   "execution_count": 130,
   "metadata": {},
   "outputs": [
    {
     "data": {
      "text/plain": [
       "{'786_0':      NRMSE        R2       PCC      Bias\n",
       " 0  0.68845  0.526037  0.726558  0.498793,\n",
       " '498':       NRMSE        R2       PCC     Bias\n",
       " 0  0.709787  0.496202  0.704829  0.51586,\n",
       " '549_ATCC':       NRMSE        R2       PCC      Bias\n",
       " 0  0.672905  0.547199  0.739769  0.447348,\n",
       " 'CHN':       NRMSE        R2       PCC     Bias\n",
       " 0  0.679965  0.537647  0.733684  0.47868,\n",
       " 'BT_549':       NRMSE       R2       PCC      Bias\n",
       " 0  0.742085  0.44931  0.671418  0.532077,\n",
       " 'CAKI_1':       NRMSE       R2       PCC      Bias\n",
       " 0  0.708209  0.49844  0.706275  0.513947,\n",
       " 'CCRF_CEM':       NRMSE        R2       PCC      Bias\n",
       " 0  0.719779  0.481918  0.694249  0.522492,\n",
       " 'COLO_205':       NRMSE        R2       PCC      Bias\n",
       " 0  0.681804  0.535143  0.731641  0.460919,\n",
       " 'DLD_1':       NRMSE        R2       PCC      Bias\n",
       " 0  0.685755  0.529741  0.728807  0.468404,\n",
       " 'DMS_114':       NRMSE        R2       PCC     Bias\n",
       " 0  0.703957  0.504444  0.710886  0.48422,\n",
       " 'DMS_273':       NRMSE        R2       PCC      Bias\n",
       " 0  0.694045  0.518301  0.719967  0.478618,\n",
       " 'DU_145':       NRMSE        R2       PCC      Bias\n",
       " 0  0.715131  0.488587  0.699512  0.492032,\n",
       " 'HCC_2998':       NRMSE        R2       PCC      Bias\n",
       " 0  0.693815  0.518621  0.720819  0.502461,\n",
       " 'MDA_MB_435':       NRMSE        R2       PCC      Bias\n",
       " 0  0.730026  0.467062  0.683853  0.543194,\n",
       " 'NCI_ADR_RES':       NRMSE        R2       PCC      Bias\n",
       " 0  0.741487  0.450197  0.672483  0.517421,\n",
       " 'SNB_78':       NRMSE        R2       PCC      Bias\n",
       " 0  0.743017  0.447926  0.674605  0.489287}"
      ]
     },
     "execution_count": 130,
     "metadata": {},
     "output_type": "execute_result"
    }
   ],
   "source": [
    "Res"
   ]
  },
  {
   "cell_type": "code",
   "execution_count": 112,
   "metadata": {},
   "outputs": [
    {
     "data": {
      "text/html": [
       "<div>\n",
       "<style scoped>\n",
       "    .dataframe tbody tr th:only-of-type {\n",
       "        vertical-align: middle;\n",
       "    }\n",
       "\n",
       "    .dataframe tbody tr th {\n",
       "        vertical-align: top;\n",
       "    }\n",
       "\n",
       "    .dataframe thead th {\n",
       "        text-align: right;\n",
       "    }\n",
       "</style>\n",
       "<table border=\"1\" class=\"dataframe\">\n",
       "  <thead>\n",
       "    <tr style=\"text-align: right;\">\n",
       "      <th></th>\n",
       "      <th>Unnamed: 0</th>\n",
       "      <th>Y_Val</th>\n",
       "      <th>MDS</th>\n",
       "      <th>LE</th>\n",
       "      <th>LLE</th>\n",
       "      <th>ISO</th>\n",
       "      <th>VOL</th>\n",
       "      <th>Stacked</th>\n",
       "    </tr>\n",
       "  </thead>\n",
       "  <tbody>\n",
       "    <tr>\n",
       "      <th>0</th>\n",
       "      <td>0</td>\n",
       "      <td>0.557946</td>\n",
       "      <td>0.540486</td>\n",
       "      <td>0.540677</td>\n",
       "      <td>0.524917</td>\n",
       "      <td>0.544303</td>\n",
       "      <td>0.528383</td>\n",
       "      <td>0.536828</td>\n",
       "    </tr>\n",
       "    <tr>\n",
       "      <th>1</th>\n",
       "      <td>1</td>\n",
       "      <td>0.473133</td>\n",
       "      <td>0.500014</td>\n",
       "      <td>0.501073</td>\n",
       "      <td>0.511223</td>\n",
       "      <td>0.502395</td>\n",
       "      <td>0.486443</td>\n",
       "      <td>0.498527</td>\n",
       "    </tr>\n",
       "    <tr>\n",
       "      <th>2</th>\n",
       "      <td>2</td>\n",
       "      <td>0.466189</td>\n",
       "      <td>0.492360</td>\n",
       "      <td>0.494889</td>\n",
       "      <td>0.496719</td>\n",
       "      <td>0.495329</td>\n",
       "      <td>0.477587</td>\n",
       "      <td>0.489585</td>\n",
       "    </tr>\n",
       "    <tr>\n",
       "      <th>3</th>\n",
       "      <td>3</td>\n",
       "      <td>0.510360</td>\n",
       "      <td>0.530695</td>\n",
       "      <td>0.510877</td>\n",
       "      <td>0.524348</td>\n",
       "      <td>0.526178</td>\n",
       "      <td>0.512709</td>\n",
       "      <td>0.521005</td>\n",
       "    </tr>\n",
       "    <tr>\n",
       "      <th>4</th>\n",
       "      <td>4</td>\n",
       "      <td>0.612933</td>\n",
       "      <td>0.635392</td>\n",
       "      <td>0.502321</td>\n",
       "      <td>0.349346</td>\n",
       "      <td>0.665423</td>\n",
       "      <td>0.473886</td>\n",
       "      <td>0.568218</td>\n",
       "    </tr>\n",
       "  </tbody>\n",
       "</table>\n",
       "</div>"
      ],
      "text/plain": [
       "   Unnamed: 0     Y_Val       MDS        LE       LLE       ISO       VOL  \\\n",
       "0           0  0.557946  0.540486  0.540677  0.524917  0.544303  0.528383   \n",
       "1           1  0.473133  0.500014  0.501073  0.511223  0.502395  0.486443   \n",
       "2           2  0.466189  0.492360  0.494889  0.496719  0.495329  0.477587   \n",
       "3           3  0.510360  0.530695  0.510877  0.524348  0.526178  0.512709   \n",
       "4           4  0.612933  0.635392  0.502321  0.349346  0.665423  0.473886   \n",
       "\n",
       "    Stacked  \n",
       "0  0.536828  \n",
       "1  0.498527  \n",
       "2  0.489585  \n",
       "3  0.521005  \n",
       "4  0.568218  "
      ]
     },
     "execution_count": 112,
     "metadata": {},
     "output_type": "execute_result"
    }
   ],
   "source": [
    "Test.head()\n",
    "Test['Stacked'] = Y_Pred\n",
    "Test.head()"
   ]
  },
  {
   "cell_type": "code",
   "execution_count": null,
   "metadata": {},
   "outputs": [],
   "source": []
  }
 ],
 "metadata": {
  "kernelspec": {
   "display_name": "Python 3",
   "language": "python",
   "name": "python3"
  },
  "language_info": {
   "codemirror_mode": {
    "name": "ipython",
    "version": 3
   },
   "file_extension": ".py",
   "mimetype": "text/x-python",
   "name": "python",
   "nbconvert_exporter": "python",
   "pygments_lexer": "ipython3",
   "version": "3.7.1"
  }
 },
 "nbformat": 4,
 "nbformat_minor": 2
}
